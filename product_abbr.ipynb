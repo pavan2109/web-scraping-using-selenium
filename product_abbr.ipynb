{
 "cells": [
  {
   "cell_type": "code",
   "execution_count": 166,
   "metadata": {},
   "outputs": [],
   "source": [
    "#we are finding the abbreviations of product types from allacronyms.com by extracting the source code of the website\n",
    "\n",
    "#tools used \n",
    "#1) selenium for extracting html code \n",
    "#2) pandas to find the abbreviations in the source code\n",
    "\n",
    "#If it goes to captcha mode,then driver closes and it re installs the again\n",
    "#find abbreviation through pandas\n"
   ]
  },
  {
   "cell_type": "code",
   "execution_count": 181,
   "metadata": {},
   "outputs": [],
   "source": [
    "import requests\n",
    "from bs4 import BeautifulSoup as bs\n",
    "import pandas as pd\n",
    "import numpy as np\n",
    "import random\n",
    "import time\n",
    "from fake_useragent import UserAgent\n",
    "from tqdm import tqdm\n",
    "import random\n",
    "import re\n",
    "tqdm.pandas()"
   ]
  },
  {
   "cell_type": "code",
   "execution_count": 182,
   "metadata": {},
   "outputs": [],
   "source": [
    "import pandas as pd\n",
    "brands = pd.read_csv('product_abbrev.csv')\n"
   ]
  },
  {
   "cell_type": "code",
   "execution_count": 183,
   "metadata": {},
   "outputs": [
    {
     "data": {
      "text/plain": [
       "Index(['Unnamed: 0', 'product_type'], dtype='object')"
      ]
     },
     "execution_count": 183,
     "metadata": {},
     "output_type": "execute_result"
    }
   ],
   "source": [
    "brands.columns"
   ]
  },
  {
   "cell_type": "code",
   "execution_count": 184,
   "metadata": {},
   "outputs": [
    {
     "data": {
      "text/html": [
       "<div>\n",
       "<style scoped>\n",
       "    .dataframe tbody tr th:only-of-type {\n",
       "        vertical-align: middle;\n",
       "    }\n",
       "\n",
       "    .dataframe tbody tr th {\n",
       "        vertical-align: top;\n",
       "    }\n",
       "\n",
       "    .dataframe thead th {\n",
       "        text-align: right;\n",
       "    }\n",
       "</style>\n",
       "<table border=\"1\" class=\"dataframe\">\n",
       "  <thead>\n",
       "    <tr style=\"text-align: right;\">\n",
       "      <th></th>\n",
       "      <th>Unnamed: 0</th>\n",
       "      <th>product_type</th>\n",
       "    </tr>\n",
       "  </thead>\n",
       "  <tbody>\n",
       "    <tr>\n",
       "      <th>0</th>\n",
       "      <td>254</td>\n",
       "      <td>new age tech</td>\n",
       "    </tr>\n",
       "    <tr>\n",
       "      <th>1</th>\n",
       "      <td>255</td>\n",
       "      <td>cable and connector</td>\n",
       "    </tr>\n",
       "    <tr>\n",
       "      <th>2</th>\n",
       "      <td>256</td>\n",
       "      <td>trackpants combo</td>\n",
       "    </tr>\n",
       "    <tr>\n",
       "      <th>3</th>\n",
       "      <td>257</td>\n",
       "      <td>biker joggers</td>\n",
       "    </tr>\n",
       "    <tr>\n",
       "      <th>4</th>\n",
       "      <td>258</td>\n",
       "      <td>hair dryer</td>\n",
       "    </tr>\n",
       "    <tr>\n",
       "      <th>...</th>\n",
       "      <td>...</td>\n",
       "      <td>...</td>\n",
       "    </tr>\n",
       "    <tr>\n",
       "      <th>1711</th>\n",
       "      <td>4081</td>\n",
       "      <td>hand blender</td>\n",
       "    </tr>\n",
       "    <tr>\n",
       "      <th>1712</th>\n",
       "      <td>4082</td>\n",
       "      <td>photo printers</td>\n",
       "    </tr>\n",
       "    <tr>\n",
       "      <th>1713</th>\n",
       "      <td>4085</td>\n",
       "      <td>shapewear brief</td>\n",
       "    </tr>\n",
       "    <tr>\n",
       "      <th>1714</th>\n",
       "      <td>4089</td>\n",
       "      <td>assorted vest</td>\n",
       "    </tr>\n",
       "    <tr>\n",
       "      <th>1715</th>\n",
       "      <td>4090</td>\n",
       "      <td>sandals &amp; floaters</td>\n",
       "    </tr>\n",
       "  </tbody>\n",
       "</table>\n",
       "<p>1716 rows × 2 columns</p>\n",
       "</div>"
      ],
      "text/plain": [
       "      Unnamed: 0         product_type\n",
       "0            254         new age tech\n",
       "1            255  cable and connector\n",
       "2            256     trackpants combo\n",
       "3            257        biker joggers\n",
       "4            258           hair dryer\n",
       "...          ...                  ...\n",
       "1711        4081         hand blender\n",
       "1712        4082       photo printers\n",
       "1713        4085      shapewear brief\n",
       "1714        4089        assorted vest\n",
       "1715        4090   sandals & floaters\n",
       "\n",
       "[1716 rows x 2 columns]"
      ]
     },
     "execution_count": 184,
     "metadata": {},
     "output_type": "execute_result"
    }
   ],
   "source": [
    "brands"
   ]
  },
  {
   "cell_type": "code",
   "execution_count": 185,
   "metadata": {},
   "outputs": [],
   "source": [
    "brands=brands.drop(['Unnamed: 0'],axis=1)"
   ]
  },
  {
   "cell_type": "code",
   "execution_count": 186,
   "metadata": {},
   "outputs": [
    {
     "data": {
      "text/html": [
       "<div>\n",
       "<style scoped>\n",
       "    .dataframe tbody tr th:only-of-type {\n",
       "        vertical-align: middle;\n",
       "    }\n",
       "\n",
       "    .dataframe tbody tr th {\n",
       "        vertical-align: top;\n",
       "    }\n",
       "\n",
       "    .dataframe thead th {\n",
       "        text-align: right;\n",
       "    }\n",
       "</style>\n",
       "<table border=\"1\" class=\"dataframe\">\n",
       "  <thead>\n",
       "    <tr style=\"text-align: right;\">\n",
       "      <th></th>\n",
       "      <th>product_type</th>\n",
       "    </tr>\n",
       "  </thead>\n",
       "  <tbody>\n",
       "    <tr>\n",
       "      <th>0</th>\n",
       "      <td>new age tech</td>\n",
       "    </tr>\n",
       "    <tr>\n",
       "      <th>1</th>\n",
       "      <td>cable and connector</td>\n",
       "    </tr>\n",
       "    <tr>\n",
       "      <th>2</th>\n",
       "      <td>trackpants combo</td>\n",
       "    </tr>\n",
       "    <tr>\n",
       "      <th>3</th>\n",
       "      <td>biker joggers</td>\n",
       "    </tr>\n",
       "    <tr>\n",
       "      <th>4</th>\n",
       "      <td>hair dryer</td>\n",
       "    </tr>\n",
       "    <tr>\n",
       "      <th>...</th>\n",
       "      <td>...</td>\n",
       "    </tr>\n",
       "    <tr>\n",
       "      <th>1711</th>\n",
       "      <td>hand blender</td>\n",
       "    </tr>\n",
       "    <tr>\n",
       "      <th>1712</th>\n",
       "      <td>photo printers</td>\n",
       "    </tr>\n",
       "    <tr>\n",
       "      <th>1713</th>\n",
       "      <td>shapewear brief</td>\n",
       "    </tr>\n",
       "    <tr>\n",
       "      <th>1714</th>\n",
       "      <td>assorted vest</td>\n",
       "    </tr>\n",
       "    <tr>\n",
       "      <th>1715</th>\n",
       "      <td>sandals &amp; floaters</td>\n",
       "    </tr>\n",
       "  </tbody>\n",
       "</table>\n",
       "<p>1716 rows × 1 columns</p>\n",
       "</div>"
      ],
      "text/plain": [
       "             product_type\n",
       "0            new age tech\n",
       "1     cable and connector\n",
       "2        trackpants combo\n",
       "3           biker joggers\n",
       "4              hair dryer\n",
       "...                   ...\n",
       "1711         hand blender\n",
       "1712       photo printers\n",
       "1713      shapewear brief\n",
       "1714        assorted vest\n",
       "1715   sandals & floaters\n",
       "\n",
       "[1716 rows x 1 columns]"
      ]
     },
     "execution_count": 186,
     "metadata": {},
     "output_type": "execute_result"
    }
   ],
   "source": [
    "brands"
   ]
  },
  {
   "cell_type": "code",
   "execution_count": 187,
   "metadata": {},
   "outputs": [
    {
     "data": {
      "text/plain": [
       "1716"
      ]
     },
     "execution_count": 187,
     "metadata": {},
     "output_type": "execute_result"
    }
   ],
   "source": [
    "len(brands)"
   ]
  },
  {
   "cell_type": "code",
   "execution_count": null,
   "metadata": {},
   "outputs": [],
   "source": []
  },
  {
   "cell_type": "code",
   "execution_count": 188,
   "metadata": {},
   "outputs": [],
   "source": [
    "ua = UserAgent()"
   ]
  },
  {
   "cell_type": "code",
   "execution_count": 189,
   "metadata": {},
   "outputs": [],
   "source": [
    "from webdriver_manager.chrome import ChromeDriverManager"
   ]
  },
  {
   "cell_type": "code",
   "execution_count": 190,
   "metadata": {},
   "outputs": [
    {
     "name": "stderr",
     "output_type": "stream",
     "text": [
      "C:\\Users\\pavan\\anaconda3\\lib\\site-packages\\tqdm\\std.py:668: FutureWarning: The Panel class is removed from pandas. Accessing it from the top-level namespace will also be removed in the next version\n",
      "  from pandas import Panel\n"
     ]
    }
   ],
   "source": [
    "from selenium import webdriver \n",
    "from tqdm import tqdm\n",
    "tqdm.pandas() "
   ]
  },
  {
   "cell_type": "code",
   "execution_count": 191,
   "metadata": {},
   "outputs": [],
   "source": [
    "brand_url = \"https://www.abbreviations.com/abbreviation/\""
   ]
  },
  {
   "cell_type": "code",
   "execution_count": 192,
   "metadata": {},
   "outputs": [],
   "source": [
    "def get_prod_type_abb(text):\n",
    "        time.sleep(1)\n",
    "        strs = text.lower().replace(' ','_')\n",
    "#     print(strs)\n",
    "#     op = webdriver.ChromeOptions()\n",
    "#     op.add_argument('headless')\n",
    "\n",
    "         #object creation and passing arguments\n",
    "        op = webdriver.ChromeOptions()\n",
    "        op.add_argument('start-maximized')\n",
    "        op.add_argument('start-fullscreen')#screen size\n",
    "        op.add_argument(\"incognito\")\n",
    "        op.add_argument('--no-sandbox')  \n",
    "    \n",
    "        \n",
    "     #     proxy = FreeProxy(country_id=['US'], rand=True, anonym=True).get()\n",
    "#     ip = proxy.split(\"://\")[1] \n",
    "#     op.add_argument('proxy-server=%s' % ip)\n",
    "    \n",
    "        ##installing web driver\n",
    "        driver  = webdriver.Chrome(executable_path=r'C:\\Users\\pavan\\Downloads\\chromedriver.exe', options=op) \n",
    "        time.sleep(2 * random.random())\n",
    "        driver.get('https://www.allacronyms.com/'+strs+'/abbreviated/')\n",
    "        \n",
    "        time.sleep(2 * random.random())\n",
    "        \n",
    "        #html page source\n",
    "        html_=driver.page_source\n",
    "    \n",
    "        t = driver.find_elements(by='xpath', value = './/span[@class=\"gs-captcha-msg\"]')\n",
    "        print('bot mode -> ',len(t))\n",
    "        i=0\n",
    "        if len(t)!=0 and i<5:\n",
    "            driver.close()\n",
    "            time.sleep(2* random.random())\n",
    "            driver  = webdriver.Chrome(executable_path=r'C:\\Users\\pavan\\Downloads\\chromedriver.exe', options=op) \n",
    "            driver.implicitly_wait(2)\n",
    "            driver.get('https://www.allacronyms.com/'+strs+'/abbreviated/')\n",
    "            t = driver.find_elements(by='xpath', value = './/span[@class=\"gs-captcha-msg\"]')\n",
    "            i=i+1\n",
    "        \n",
    "        #print(driver.page_source)\n",
    "        \n",
    "        time.sleep(1 * random.random())\n",
    "        driver.close()\n",
    "        try:\n",
    "    \n",
    "            \n",
    "            x=pd.read_html(html_)\n",
    "            if len(x)>1:\n",
    "                return list(x[0][1])\n",
    "            else:\n",
    "                return []\n",
    "        except Exception as e:\n",
    "            print('exception encountered',e)\n",
    "            return []"
   ]
  },
  {
   "cell_type": "code",
   "execution_count": null,
   "metadata": {},
   "outputs": [],
   "source": []
  },
  {
   "cell_type": "code",
   "execution_count": 193,
   "metadata": {},
   "outputs": [],
   "source": [
    "from tqdm.notebook import tqdm\n",
    "tqdm.pandas()"
   ]
  },
  {
   "cell_type": "code",
   "execution_count": null,
   "metadata": {},
   "outputs": [],
   "source": [
    "brands['abbr']=brands['product_type'].progress_apply(get_prod_type_abb)"
   ]
  },
  {
   "cell_type": "code",
   "execution_count": null,
   "metadata": {},
   "outputs": [],
   "source": [
    "i=1\n",
    "for df in list_of_dfs:\n",
    "    df['abbr']=df['product_type'].progress_apply(get_prod_type_abb)\n",
    "    df.to_csv(r'C:\\Users\\pavan\\OneDrive\\Desktop\\product_type\\pr_type'+str(i)+'.csv') \n",
    "   \n",
    "    i+=1"
   ]
  },
  {
   "cell_type": "code",
   "execution_count": null,
   "metadata": {},
   "outputs": [],
   "source": []
  }
 ],
 "metadata": {
  "kernelspec": {
   "display_name": "Python 3",
   "language": "python",
   "name": "python3"
  },
  "language_info": {
   "codemirror_mode": {
    "name": "ipython",
    "version": 3
   },
   "file_extension": ".py",
   "mimetype": "text/x-python",
   "name": "python",
   "nbconvert_exporter": "python",
   "pygments_lexer": "ipython3",
   "version": "3.8.3"
  }
 },
 "nbformat": 4,
 "nbformat_minor": 4
}
