{
 "cells": [
  {
   "cell_type": "code",
   "execution_count": 50,
   "metadata": {},
   "outputs": [
    {
     "name": "stdout",
     "output_type": "stream",
     "text": [
      "Requirement already satisfied: requests in c:\\users\\pavan\\anaconda3\\lib\\site-packages (2.24.0)\n",
      "Requirement already satisfied: urllib3!=1.25.0,!=1.25.1,<1.26,>=1.21.1 in c:\\users\\pavan\\anaconda3\\lib\\site-packages (from requests) (1.25.11)\n",
      "Requirement already satisfied: certifi>=2017.4.17 in c:\\users\\pavan\\anaconda3\\lib\\site-packages (from requests) (2020.6.20)\n",
      "Requirement already satisfied: chardet<4,>=3.0.2 in c:\\users\\pavan\\anaconda3\\lib\\site-packages (from requests) (3.0.4)\n",
      "Requirement already satisfied: idna<3,>=2.5 in c:\\users\\pavan\\anaconda3\\lib\\site-packages (from requests) (2.10)\n",
      "Requirement already satisfied: html5lib in c:\\users\\pavan\\anaconda3\\lib\\site-packages (1.1)\n",
      "Requirement already satisfied: webencodings in c:\\users\\pavan\\anaconda3\\lib\\site-packages (from html5lib) (0.5.1)\n",
      "Requirement already satisfied: six>=1.9 in c:\\users\\pavan\\anaconda3\\lib\\site-packages (from html5lib) (1.15.0)\n",
      "Requirement already satisfied: bs4 in c:\\users\\pavan\\anaconda3\\lib\\site-packages (0.0.1)\n",
      "Requirement already satisfied: beautifulsoup4 in c:\\users\\pavan\\anaconda3\\lib\\site-packages (from bs4) (4.9.1)\n",
      "Requirement already satisfied: soupsieve>1.2 in c:\\users\\pavan\\anaconda3\\lib\\site-packages (from beautifulsoup4->bs4) (2.0.1)\n"
     ]
    }
   ],
   "source": [
    "!pip install requests\n",
    "!pip install html5lib\n",
    "!pip install bs4"
   ]
  },
  {
   "cell_type": "code",
   "execution_count": 51,
   "metadata": {},
   "outputs": [
    {
     "name": "stdout",
     "output_type": "stream",
     "text": [
      "Requirement already satisfied: fake-useragent in c:\\users\\pavan\\anaconda3\\lib\\site-packages (0.1.11)\n",
      "Note: you may need to restart the kernel to use updated packages.\n"
     ]
    }
   ],
   "source": [
    "pip install fake-useragent\n"
   ]
  },
  {
   "cell_type": "code",
   "execution_count": 2,
   "metadata": {},
   "outputs": [],
   "source": [
    "import requests\n",
    "from bs4 import BeautifulSoup as bs\n",
    "import pandas as pd\n",
    "import numpy as np\n",
    "import random\n",
    "import time"
   ]
  },
  {
   "cell_type": "code",
   "execution_count": 3,
   "metadata": {},
   "outputs": [
    {
     "name": "stderr",
     "output_type": "stream",
     "text": [
      "C:\\Users\\pavan\\anaconda3\\lib\\site-packages\\tqdm\\std.py:668: FutureWarning: The Panel class is removed from pandas. Accessing it from the top-level namespace will also be removed in the next version\n",
      "  from pandas import Panel\n"
     ]
    }
   ],
   "source": [
    "from fake_useragent import UserAgent\n",
    "from tqdm import tqdm\n",
    "import random\n",
    "import re\n",
    "tqdm.pandas()"
   ]
  },
  {
   "cell_type": "code",
   "execution_count": 4,
   "metadata": {},
   "outputs": [],
   "source": [
    "ua = UserAgent()"
   ]
  },
  {
   "cell_type": "code",
   "execution_count": 5,
   "metadata": {},
   "outputs": [],
   "source": [
    "import pandas as pd\n",
    "brands = pd.read_csv('brand_abbr.csv')\n"
   ]
  },
  {
   "cell_type": "code",
   "execution_count": 6,
   "metadata": {},
   "outputs": [
    {
     "data": {
      "text/html": [
       "<div>\n",
       "<style scoped>\n",
       "    .dataframe tbody tr th:only-of-type {\n",
       "        vertical-align: middle;\n",
       "    }\n",
       "\n",
       "    .dataframe tbody tr th {\n",
       "        vertical-align: top;\n",
       "    }\n",
       "\n",
       "    .dataframe thead th {\n",
       "        text-align: right;\n",
       "    }\n",
       "</style>\n",
       "<table border=\"1\" class=\"dataframe\">\n",
       "  <thead>\n",
       "    <tr style=\"text-align: right;\">\n",
       "      <th></th>\n",
       "      <th>Unnamed: 0</th>\n",
       "      <th>brand_name</th>\n",
       "      <th>abbr</th>\n",
       "    </tr>\n",
       "  </thead>\n",
       "  <tbody>\n",
       "    <tr>\n",
       "      <th>0</th>\n",
       "      <td>0</td>\n",
       "      <td>Nuon Men</td>\n",
       "      <td>[]</td>\n",
       "    </tr>\n",
       "    <tr>\n",
       "      <th>1</th>\n",
       "      <td>1</td>\n",
       "      <td>Bombay Paisley</td>\n",
       "      <td>[]</td>\n",
       "    </tr>\n",
       "    <tr>\n",
       "      <th>2</th>\n",
       "      <td>2</td>\n",
       "      <td>Utsa</td>\n",
       "      <td>[]</td>\n",
       "    </tr>\n",
       "    <tr>\n",
       "      <th>3</th>\n",
       "      <td>3</td>\n",
       "      <td>109 F</td>\n",
       "      <td>[]</td>\n",
       "    </tr>\n",
       "    <tr>\n",
       "      <th>4</th>\n",
       "      <td>4</td>\n",
       "      <td>Integriti</td>\n",
       "      <td>[]</td>\n",
       "    </tr>\n",
       "    <tr>\n",
       "      <th>...</th>\n",
       "      <td>...</td>\n",
       "      <td>...</td>\n",
       "      <td>...</td>\n",
       "    </tr>\n",
       "    <tr>\n",
       "      <th>3411</th>\n",
       "      <td>3435</td>\n",
       "      <td>Gateway</td>\n",
       "      <td>[]</td>\n",
       "    </tr>\n",
       "    <tr>\n",
       "      <th>3412</th>\n",
       "      <td>3436</td>\n",
       "      <td>FD</td>\n",
       "      <td>[]</td>\n",
       "    </tr>\n",
       "    <tr>\n",
       "      <th>3413</th>\n",
       "      <td>3437</td>\n",
       "      <td>TAG</td>\n",
       "      <td>[]</td>\n",
       "    </tr>\n",
       "    <tr>\n",
       "      <th>3414</th>\n",
       "      <td>3438</td>\n",
       "      <td>LeapFrog</td>\n",
       "      <td>[]</td>\n",
       "    </tr>\n",
       "    <tr>\n",
       "      <th>3415</th>\n",
       "      <td>3439</td>\n",
       "      <td>Thermocare</td>\n",
       "      <td>[]</td>\n",
       "    </tr>\n",
       "  </tbody>\n",
       "</table>\n",
       "<p>3416 rows × 3 columns</p>\n",
       "</div>"
      ],
      "text/plain": [
       "      Unnamed: 0      brand_name abbr\n",
       "0              0        Nuon Men   []\n",
       "1              1  Bombay Paisley   []\n",
       "2              2            Utsa   []\n",
       "3              3           109 F   []\n",
       "4              4       Integriti   []\n",
       "...          ...             ...  ...\n",
       "3411        3435         Gateway   []\n",
       "3412        3436              FD   []\n",
       "3413        3437             TAG   []\n",
       "3414        3438        LeapFrog   []\n",
       "3415        3439      Thermocare   []\n",
       "\n",
       "[3416 rows x 3 columns]"
      ]
     },
     "execution_count": 6,
     "metadata": {},
     "output_type": "execute_result"
    }
   ],
   "source": [
    "brands"
   ]
  },
  {
   "cell_type": "code",
   "execution_count": 7,
   "metadata": {},
   "outputs": [],
   "source": [
    "\n",
    "from webdriver_manager.chrome import ChromeDriverManager"
   ]
  },
  {
   "cell_type": "code",
   "execution_count": 8,
   "metadata": {},
   "outputs": [
    {
     "name": "stderr",
     "output_type": "stream",
     "text": [
      "C:\\Users\\pavan\\anaconda3\\lib\\site-packages\\tqdm\\std.py:668: FutureWarning: The Panel class is removed from pandas. Accessing it from the top-level namespace will also be removed in the next version\n",
      "  from pandas import Panel\n"
     ]
    }
   ],
   "source": [
    "from selenium import webdriver \n",
    "from tqdm import tqdm\n",
    "tqdm.pandas() "
   ]
  },
  {
   "cell_type": "code",
   "execution_count": 10,
   "metadata": {},
   "outputs": [],
   "source": [
    "def get_abb(text):\n",
    "        time.sleep(1)\n",
    "        strs = text.lower().replace(' ','_')\n",
    "\n",
    "        op = webdriver.ChromeOptions()\n",
    "        op.add_argument('start-maximized')\n",
    "        op.add_argument('start-fullscreen')\n",
    "        op.add_argument(\"incognito\")\n",
    "        \n",
    "       \n",
    "        driver  = webdriver.Chrome(ChromeDriverManager().install(), options=op)\n",
    "        time.sleep(1 * random.random())\n",
    "        driver.get('https://www.allacronyms.com/'+strs+'/brand')\n",
    "        html_=driver.page_source\n",
    "        time.sleep(1 * random.random())\n",
    "    \n",
    "        t = driver.find_elements(by='xpath', value = './/span[@class=\"gs-captcha-msg\"]')\n",
    "        print('t len -> ',len(t))\n",
    "        \n",
    "        i=0\n",
    "        if len(t)!=0 and i<5:\n",
    "            driver.close()\n",
    "            time.sleep(2 * random.random())\n",
    "            driver  = webdriver.Chrome(ChromeDriverManager().install(), options=op) \n",
    "            driver.implicitly_wait(2)\n",
    "            \n",
    "            driver.get('https://www.allacronyms.com/'+strs+'/brand')\n",
    "            t = driver.find_elements(by='xpath', value = './/span[@class=\"gs-captcha-msg\"]')\n",
    "            i=i+1\n",
    "        \n",
    "   \n",
    "        brand_filter = driver.find_elements(by='xpath', value='.//div[@id=\"common-sidebar-filters\"]//span[@title=\"Current filter\"]')\n",
    "        #print(brand_filter[0].text)\n",
    "        time.sleep(1 * random.random())\n",
    "        x = pd.read_html(html_)\n",
    "       \n",
    "        if len(brand_filter)>0 and brand_filter[0].text.lower().strip()=='brand':\n",
    "            try:\n",
    "                print(brand_filter[0].text)\n",
    "                x = pd.read_html(html_)\n",
    "                \n",
    "                if len(x)>1: \n",
    "                    return list(x[0][2])\n",
    "                else:\n",
    "                    return []\n",
    "            except Exception as e:\n",
    "                print('exception encountered',e)\n",
    "                return e\n",
    "            \n",
    "        \n",
    "        else:\n",
    "            return []  \n",
    "        \n",
    "        driver.close()\n",
    "    \n",
    "    \n"
   ]
  },
  {
   "cell_type": "code",
   "execution_count": 11,
   "metadata": {},
   "outputs": [
    {
     "name": "stdout",
     "output_type": "stream",
     "text": [
      "\n"
     ]
    },
    {
     "name": "stderr",
     "output_type": "stream",
     "text": [
      "[WDM] - ====== WebDriver manager ======\n",
      "[WDM] - Current google-chrome version is 103.0.5060\n",
      "[WDM] - Get LATEST chromedriver version for 103.0.5060 google-chrome\n",
      "[WDM] - There is no [win32] chromedriver for browser 103.0.5060 in cache\n",
      "[WDM] - About to download new driver from https://chromedriver.storage.googleapis.com/103.0.5060.53/chromedriver_win32.zip\n",
      "[WDM] - Driver has been saved in cache [C:\\Users\\pavan\\.wdm\\drivers\\chromedriver\\win32\\103.0.5060.53]\n",
      "<ipython-input-10-f9f590830f94>:11: DeprecationWarning: executable_path has been deprecated, please pass in a Service object\n",
      "  driver  = webdriver.Chrome(ChromeDriverManager().install(), options=op)\n"
     ]
    },
    {
     "name": "stdout",
     "output_type": "stream",
     "text": [
      "t len ->  0\n",
      "Brand\n"
     ]
    },
    {
     "data": {
      "text/plain": [
       "['Armani ExchangeBusiness']"
      ]
     },
     "execution_count": 11,
     "metadata": {},
     "output_type": "execute_result"
    }
   ],
   "source": [
    "get_abb('AX')"
   ]
  },
  {
   "cell_type": "code",
   "execution_count": null,
   "metadata": {},
   "outputs": [],
   "source": []
  },
  {
   "cell_type": "code",
   "execution_count": 88,
   "metadata": {},
   "outputs": [
    {
     "data": {
      "text/plain": [
       "177"
      ]
     },
     "execution_count": 88,
     "metadata": {},
     "output_type": "execute_result"
    }
   ],
   "source": [
    "len(l2)"
   ]
  },
  {
   "cell_type": "code",
   "execution_count": 78,
   "metadata": {},
   "outputs": [
    {
     "data": {
      "text/plain": [
       "0      Creatine KinaseMedical, Biochemistry, Healthcare\n",
       "1                           CheckPoker, Medical, Sports\n",
       "2                CuckooBirdwatching, Birds, Ornithology\n",
       "3                  Calvin KleinBrand, Fashion, Clothing\n",
       "4               CytokeratinMedical, Pathology, Oncology\n",
       "5            Casein KinaseMedical, Biochemistry, Health\n",
       "6         Clear KeyCybersecurity, Computing, Technology\n",
       "7                   Corner KickSoccer, Soccer, Football\n",
       "8        Crypto KeyCybersecurity, Computing, Technology\n",
       "9                              CookMilitary, Navy, Rank\n",
       "10      Creatinine KinaseMedical, Dentistry, Veterinary\n",
       "11              Chaos KnightVideo Gaming, Chaos, Knight\n",
       "12         CokrigingEngineering, Business, Oil Industry\n",
       "13       Cook IslandsLocations, Country Code, Countries\n",
       "14              Creation KitVideo Gaming, Creation, Kit\n",
       "15    CaulkingArchitecture, Construction, Constructi...\n",
       "16            Choline KinaseMedical, Technology, Health\n",
       "17                                  Christian KidChurch\n",
       "18                     Color KinesisMedical, Cardiology\n",
       "19    Conventional KaryotypingGenetics, Cytology, Me...\n",
       "Name: 2, dtype: object"
      ]
     },
     "execution_count": 78,
     "metadata": {},
     "output_type": "execute_result"
    }
   ],
   "source": [
    "l[0][2]"
   ]
  },
  {
   "cell_type": "code",
   "execution_count": 37,
   "metadata": {},
   "outputs": [],
   "source": [
    "l=pd.DataFrame(l)"
   ]
  },
  {
   "cell_type": "code",
   "execution_count": 35,
   "metadata": {},
   "outputs": [
    {
     "data": {
      "text/html": [
       "<div>\n",
       "<style scoped>\n",
       "    .dataframe tbody tr th:only-of-type {\n",
       "        vertical-align: middle;\n",
       "    }\n",
       "\n",
       "    .dataframe tbody tr th {\n",
       "        vertical-align: top;\n",
       "    }\n",
       "\n",
       "    .dataframe thead th {\n",
       "        text-align: right;\n",
       "    }\n",
       "</style>\n",
       "<table border=\"1\" class=\"dataframe\">\n",
       "  <thead>\n",
       "    <tr style=\"text-align: right;\">\n",
       "      <th></th>\n",
       "      <th>0</th>\n",
       "    </tr>\n",
       "  </thead>\n",
       "  <tbody>\n",
       "    <tr>\n",
       "      <th>0</th>\n",
       "      <td>0   1                           ...</td>\n",
       "    </tr>\n",
       "    <tr>\n",
       "      <th>1</th>\n",
       "      <td>Abbr.                       Meaning  \\\n",
       "0    ...</td>\n",
       "    </tr>\n",
       "  </tbody>\n",
       "</table>\n",
       "</div>"
      ],
      "text/plain": [
       "                                                   0\n",
       "0                0   1                           ...\n",
       "1    Abbr.                       Meaning  \\\n",
       "0    ..."
      ]
     },
     "execution_count": 35,
     "metadata": {},
     "output_type": "execute_result"
    }
   ],
   "source": [
    "l.head()"
   ]
  },
  {
   "cell_type": "code",
   "execution_count": 38,
   "metadata": {},
   "outputs": [
    {
     "data": {
      "text/plain": [
       "(2, 1)"
      ]
     },
     "execution_count": 38,
     "metadata": {},
     "output_type": "execute_result"
    }
   ],
   "source": [
    "l.shape"
   ]
  },
  {
   "cell_type": "code",
   "execution_count": 12,
   "metadata": {},
   "outputs": [
    {
     "name": "stdout",
     "output_type": "stream",
     "text": [
      "\n"
     ]
    },
    {
     "name": "stderr",
     "output_type": "stream",
     "text": [
      "[WDM] - ====== WebDriver manager ======\n",
      "[WDM] - Current google-chrome version is 103.0.5060\n",
      "[WDM] - Get LATEST chromedriver version for 103.0.5060 google-chrome\n",
      "[WDM] - Driver [C:\\Users\\pavan\\.wdm\\drivers\\chromedriver\\win32\\103.0.5060.53\\chromedriver.exe] found in cache\n",
      "<ipython-input-10-f9f590830f94>:11: DeprecationWarning: executable_path has been deprecated, please pass in a Service object\n",
      "  driver  = webdriver.Chrome(ChromeDriverManager().install(), options=op)\n"
     ]
    },
    {
     "name": "stdout",
     "output_type": "stream",
     "text": [
      "t len ->  0\n"
     ]
    },
    {
     "data": {
      "text/plain": [
       "[]"
      ]
     },
     "execution_count": 12,
     "metadata": {},
     "output_type": "execute_result"
    }
   ],
   "source": [
    "get_abb('URBN')"
   ]
  },
  {
   "cell_type": "code",
   "execution_count": 16,
   "metadata": {},
   "outputs": [],
   "source": [
    "l=[]"
   ]
  },
  {
   "cell_type": "code",
   "execution_count": 94,
   "metadata": {},
   "outputs": [
    {
     "name": "stdout",
     "output_type": "stream",
     "text": [
      "\n"
     ]
    },
    {
     "name": "stderr",
     "output_type": "stream",
     "text": [
      "[WDM] - ====== WebDriver manager ======\n",
      "[WDM] - Current google-chrome version is 102.0.5005\n",
      "[WDM] - Get LATEST chromedriver version for 102.0.5005 google-chrome\n",
      "[WDM] - Driver [C:\\Users\\pavan\\.wdm\\drivers\\chromedriver\\win32\\102.0.5005.61\\chromedriver.exe] found in cache\n",
      "<ipython-input-90-30ca95b8b2c1>:11: DeprecationWarning: executable_path has been deprecated, please pass in a Service object\n",
      "  driver  = webdriver.Chrome(ChromeDriverManager().install(), options=op)\n"
     ]
    },
    {
     "name": "stdout",
     "output_type": "stream",
     "text": [
      "t len ->  0\n",
      "[              0     1                                                  2  \\\n",
      "0   Vote 52Vote    NG                 Natural GasTechnology, Energy, Gas   \n",
      "1   Vote 30Vote    NG             NasogastricMedical, Nursing, Diagnosis   \n",
      "2   Vote 18Vote    NG       No GoodComputing, Programming, Architectural   \n",
      "3   Vote 15Vote    NG           National GuardMilitary, Army, Technology   \n",
      "4   Vote 12Vote    ng    Nanogram+ 1Arrow Medical, Radiology, Toxicology   \n",
      "5    Vote 8Vote    NG          NigeriaCountry Code, Postcodes, Locations   \n",
      "6    Vote 7Vote    NG               NewsgroupTechnology, Chat, Computing   \n",
      "7    Vote 6Vote    NG           New GrowthMedical, Radiology, Technology   \n",
      "8    Vote 5Vote    NG  Nitroglycerin+ 1Arrow WW2, Pharmacology, Pharmacy   \n",
      "9    Vote 5Vote    NG    Not GuiltyGovernment, Law Enforcement, Criminal   \n",
      "10   Vote 4Vote    NG               National GalleryArt, Gallery, London   \n",
      "11   Vote 4Vote    NG                             No GumStamp, Philately   \n",
      "12   Vote 4Vote    NG         Normal GlucoseMedical, Physiology, Biology   \n",
      "13   Vote 4Vote    NG  NottinghamUk Postcodes, Postcodes, United Kingdom   \n",
      "14   Vote 3Vote  N.G.   Nicholas GuerardGeography, Location, Cartography   \n",
      "15   Vote 3Vote    NG  N-methyl-N'-nitro-N-nitrosoguanidineMedical, G...   \n",
      "16   Vote 3Vote    ng                       NanogrammeMedical, Radiology   \n",
      "17   Vote 3Vote    NG            NaringinMedical, Pharmacology, Pharmacy   \n",
      "\n",
      "                                          3  \n",
      "0                   Technology, Energy, Gas  \n",
      "1               Medical, Nursing, Diagnosis  \n",
      "2     Computing, Programming, Architectural  \n",
      "3                Military, Army, Technology  \n",
      "4            Medical, Radiology, Toxicology  \n",
      "5        Country Code, Postcodes, Locations  \n",
      "6               Technology, Chat, Computing  \n",
      "7            Medical, Radiology, Technology  \n",
      "8               WW2, Pharmacology, Pharmacy  \n",
      "9     Government, Law Enforcement, Criminal  \n",
      "10                     Art, Gallery, London  \n",
      "11                         Stamp, Philately  \n",
      "12             Medical, Physiology, Biology  \n",
      "13  Uk Postcodes, Postcodes, United Kingdom  \n",
      "14         Geography, Location, Cartography  \n",
      "15                         Medical, Genetic  \n",
      "16                       Medical, Radiology  \n",
      "17          Medical, Pharmacology, Pharmacy  ,   Abbr.                       Meaning                           Unnamed: 2\n",
      "0   MRI    Magnetic Resonance Imaging          Medical, Health, Healthcare\n",
      "1   FDA  Food and Drug Administration          Medical, Health, Healthcare\n",
      "2    CT           Computed Tomography          Medical, Health, Healthcare\n",
      "3    PW                         Palau  Postcodes, Locations, United States\n",
      "4    AK                        Alaska     Postal, United States, Postcodes\n",
      "5   EOD   Explosive Ordnance Disposal               Military, Army, Forces\n",
      "6    GU                          Guam         Locations, Postcodes, Postal\n",
      "7    CI           Confidence Interval          Medical, Healthcare, Health\n",
      "8   HIV  Human Immunodeficiency Virus          Medical, Health, Healthcare\n",
      "9   CNS        Central Nervous System          Medical, Healthcare, Health]\n"
     ]
    },
    {
     "data": {
      "text/plain": [
       "[]"
      ]
     },
     "execution_count": 94,
     "metadata": {},
     "output_type": "execute_result"
    }
   ],
   "source": [
    "get_abb('NG')"
   ]
  },
  {
   "cell_type": "code",
   "execution_count": 95,
   "metadata": {},
   "outputs": [
    {
     "name": "stdout",
     "output_type": "stream",
     "text": [
      "\n"
     ]
    },
    {
     "name": "stderr",
     "output_type": "stream",
     "text": [
      "[WDM] - ====== WebDriver manager ======\n",
      "[WDM] - Current google-chrome version is 102.0.5005\n",
      "[WDM] - Get LATEST chromedriver version for 102.0.5005 google-chrome\n",
      "[WDM] - Driver [C:\\Users\\pavan\\.wdm\\drivers\\chromedriver\\win32\\102.0.5005.61\\chromedriver.exe] found in cache\n",
      "<ipython-input-90-30ca95b8b2c1>:11: DeprecationWarning: executable_path has been deprecated, please pass in a Service object\n",
      "  driver  = webdriver.Chrome(ChromeDriverManager().install(), options=op)\n"
     ]
    },
    {
     "name": "stdout",
     "output_type": "stream",
     "text": [
      "t len ->  0\n",
      "[            0     1                                 2   3\n",
      "0  Vote 1Vote  GOVO  Gruppo Osservatori Verde Orobico NaN]\n"
     ]
    },
    {
     "data": {
      "text/plain": [
       "[]"
      ]
     },
     "execution_count": 95,
     "metadata": {},
     "output_type": "execute_result"
    }
   ],
   "source": [
    "get_abb('GOVO')"
   ]
  },
  {
   "cell_type": "code",
   "execution_count": 96,
   "metadata": {},
   "outputs": [
    {
     "name": "stdout",
     "output_type": "stream",
     "text": [
      "\n"
     ]
    },
    {
     "name": "stderr",
     "output_type": "stream",
     "text": [
      "[WDM] - ====== WebDriver manager ======\n",
      "[WDM] - Current google-chrome version is 102.0.5005\n",
      "[WDM] - Get LATEST chromedriver version for 102.0.5005 google-chrome\n",
      "[WDM] - Driver [C:\\Users\\pavan\\.wdm\\drivers\\chromedriver\\win32\\102.0.5005.61\\chromedriver.exe] found in cache\n",
      "<ipython-input-90-30ca95b8b2c1>:11: DeprecationWarning: executable_path has been deprecated, please pass in a Service object\n",
      "  driver  = webdriver.Chrome(ChromeDriverManager().install(), options=op)\n"
     ]
    },
    {
     "name": "stdout",
     "output_type": "stream",
     "text": [
      "t len ->  0\n",
      "[              0       1                                                  2  \\\n",
      "0   Vote 25Vote     WOW                     White On WhiteQuilting, Sewing   \n",
      "1   Vote 21Vote     WOW         Wait On Weather+ 1Arrow Oilfield, Gas, Oil   \n",
      "2   Vote 21Vote     WoW  World of Warcraft+ 3Arrow Gaming, Video Game, ...   \n",
      "3    Vote 9Vote     WOW        Ways of WorkingBusiness, Projection, Design   \n",
      "4    Vote 8Vote     WOW  Windows on WindowsTechnology, Computing, Micro...   \n",
      "5    Vote 6Vote  W.O.W.                             WOMEN OWNED WEDNESDAYS   \n",
      "6    Vote 6Vote  W.O.W.         Woodmen of the WorldHistory, Woodmen, Hall   \n",
      "7    Vote 5Vote     WOW     Workers Owed WagesGovernment, Wage, Employment   \n",
      "8    Vote 4Vote     WOW                War of the WorldsWar, Music, Gaming   \n",
      "9    Vote 4Vote     WOW    Week Over WeekBusiness, Accounting, Accountancy   \n",
      "10   Vote 4Vote     WOW     Willow AirportAirport Code, Airport, Iata Code   \n",
      "11   Vote 4Vote     WoW               Wings of WarGaming, Technology, Play   \n",
      "12   Vote 4Vote     WOW                             Wings of WorshipChurch   \n",
      "13   Vote 4Vote     WoW                            WithOut WorryTechnology   \n",
      "14   Vote 3Vote     WOW                     Wave of WisdomGirl, Wave, Love   \n",
      "15   Vote 3Vote     WOW  Weather Observation WebsiteWeather, Office, Ob...   \n",
      "\n",
      "                                           3  \n",
      "0                           Quilting, Sewing  \n",
      "1                         Oilfield, Gas, Oil  \n",
      "2          Gaming, Video Game, Online Gaming  \n",
      "3               Business, Projection, Design  \n",
      "4   Technology, Computing, Microsoft Windows  \n",
      "5                                        NaN  \n",
      "6                     History, Woodmen, Hall  \n",
      "7               Government, Wage, Employment  \n",
      "8                         War, Music, Gaming  \n",
      "9          Business, Accounting, Accountancy  \n",
      "10          Airport Code, Airport, Iata Code  \n",
      "11                  Gaming, Technology, Play  \n",
      "12                                    Church  \n",
      "13                                Technology  \n",
      "14                          Girl, Wave, Love  \n",
      "15              Weather, Office, Observation  ,   Abbr.                           Meaning  \\\n",
      "0   LAN                Local Area Network   \n",
      "1   CPU           Central Processing Unit   \n",
      "2    IT            Information Technology   \n",
      "3   CRM  Customer Relationship Management   \n",
      "4    AP                  Accounts Payable   \n",
      "5    IP                 Internet Protocol   \n",
      "6    OR                            Oregon   \n",
      "7   NCN          Not Considered Necessary   \n",
      "8   UPT             Units Per Transaction   \n",
      "9   MAP          Minimum Advertised Price   \n",
      "\n",
      "                                      Unnamed: 2  \n",
      "0               Technology, Computing, Technical  \n",
      "1               Technology, Computing, Technical  \n",
      "2  Technology, Computing, Information Technology  \n",
      "3                Technology, Business, Computing  \n",
      "4                  Business, Accounting, Finance  \n",
      "5               Technology, Computing, Technical  \n",
      "6      United States, Postal, State Postal Codes  \n",
      "7              Accountancy, Accounting, Business  \n",
      "8                      Retail, Store, Management  \n",
      "9                     Amazon, Retail, Technology  ]\n"
     ]
    },
    {
     "data": {
      "text/plain": [
       "[]"
      ]
     },
     "execution_count": 96,
     "metadata": {},
     "output_type": "execute_result"
    }
   ],
   "source": [
    "get_abb('WOW')"
   ]
  },
  {
   "cell_type": "code",
   "execution_count": 98,
   "metadata": {},
   "outputs": [
    {
     "name": "stdout",
     "output_type": "stream",
     "text": [
      "\n"
     ]
    },
    {
     "name": "stderr",
     "output_type": "stream",
     "text": [
      "[WDM] - ====== WebDriver manager ======\n",
      "[WDM] - Current google-chrome version is 102.0.5005\n",
      "[WDM] - Get LATEST chromedriver version for 102.0.5005 google-chrome\n",
      "[WDM] - Driver [C:\\Users\\pavan\\.wdm\\drivers\\chromedriver\\win32\\102.0.5005.61\\chromedriver.exe] found in cache\n",
      "<ipython-input-90-30ca95b8b2c1>:11: DeprecationWarning: executable_path has been deprecated, please pass in a Service object\n",
      "  driver  = webdriver.Chrome(ChromeDriverManager().install(), options=op)\n"
     ]
    },
    {
     "name": "stdout",
     "output_type": "stream",
     "text": [
      "t len ->  0\n",
      "[             0        1                                                  2  \\\n",
      "0   Vote 8Vote   ADIDAS      All Day I Dream About SportsFunny, Humor, Fun   \n",
      "1   Vote 7Vote     FCUK   French Connection United KingdomLaw, Slang, Firm   \n",
      "2   Vote 7Vote    M&M's                                    Mars and Murrie   \n",
      "3   Vote 6Vote     ASOS  As Seen On ScreenFashion, Shopping, Trading Co...   \n",
      "4   Vote 6Vote      CBS  Columbia Broadcasting SystemTelevision, Broadc...   \n",
      "5   Vote 6Vote     DKNY  Donna Karan New YorkFashion, Beauty, Internet ...   \n",
      "6   Vote 6Vote     ESPN  Entertainment and Sports Programming NetworkSp...   \n",
      "7   Vote 6Vote  PORSCHE  Proof Of Rich Spoiled Children Having Everythi...   \n",
      "8   Vote 5Vote      ABC  American Broadcasting CompanyAudio Studios, Te...   \n",
      "9   Vote 5Vote    CHEVY         Can Hear Every Valve YellHumor, Funny, Fun   \n",
      "10  Vote 5Vote       CK              Calvin KleinFashion, Clothing, Brands   \n",
      "11  Vote 5Vote      CNN  Cable News NetworkSociology, Television, Catholic   \n",
      "12  Vote 5Vote      CVS  Consumer Value StoresMedical, Popular Culture,...   \n",
      "13  Vote 5Vote      DSW    Designer Shoe WarehouseTechnology, Shoe, Design   \n",
      "14  Vote 5Vote     FIAT  Fabbrica Italiana Automobili TorinoTechnology,...   \n",
      "15  Vote 5Vote    GEICO  Government Employees Insurance CompanyPopular ...   \n",
      "16  Vote 5Vote     HSBC  Hongkong and Shanghai Banking CorporationBanki...   \n",
      "17  Vote 5Vote      HTC    High Tech ComputerTechnology, Telecom, Computer   \n",
      "18  Vote 5Vote      JPG       Jean Paul GaultierClothing, Fashion, Perfume   \n",
      "19  Vote 5Vote      KFC  Kentucky Fried ChickenTrading Companies, Techn...   \n",
      "\n",
      "                                               3  \n",
      "0                              Funny, Humor, Fun  \n",
      "1                               Law, Slang, Firm  \n",
      "2                                            NaN  \n",
      "3           Fashion, Shopping, Trading Companies  \n",
      "4              Television, Broadcasting, Telecom  \n",
      "5                Fashion, Beauty, Internet Slang  \n",
      "6                       Sports, Sports, Business  \n",
      "7                              Fun, Humor, Funny  \n",
      "8        Audio Studios, Television, Broadcasting  \n",
      "9                              Humor, Funny, Fun  \n",
      "10                     Fashion, Clothing, Brands  \n",
      "11               Sociology, Television, Catholic  \n",
      "12            Medical, Popular Culture, Pharmacy  \n",
      "13                      Technology, Shoe, Design  \n",
      "14                       Technology, Car, Torino  \n",
      "15  Popular Culture, Business, Trading Companies  \n",
      "16                Banking, Shanghai, Corporation  \n",
      "17                 Technology, Telecom, Computer  \n",
      "18                    Clothing, Fashion, Perfume  \n",
      "19        Trading Companies, Technology, Chicken  ]\n"
     ]
    },
    {
     "data": {
      "text/plain": [
       "[]"
      ]
     },
     "execution_count": 98,
     "metadata": {},
     "output_type": "execute_result"
    }
   ],
   "source": [
    "get_abb('TAG')"
   ]
  },
  {
   "cell_type": "code",
   "execution_count": 13,
   "metadata": {},
   "outputs": [],
   "source": [
    "l=[]\n",
    "for i in brands['brand_name'][0:550]:\n",
    "    if i.isupper() and len(i)<5:\n",
    "        l.append(i)"
   ]
  },
  {
   "cell_type": "code",
   "execution_count": 16,
   "metadata": {},
   "outputs": [
    {
     "data": {
      "text/plain": [
       "['Y&F',\n",
       " 'AND',\n",
       " 'LOV',\n",
       " 'MEEE',\n",
       " 'LG',\n",
       " 'W',\n",
       " 'JBL',\n",
       " 'XYXX',\n",
       " 'CR7',\n",
       " 'FCUK',\n",
       " 'HP',\n",
       " '2GO',\n",
       " 'HOP',\n",
       " 'ID',\n",
       " 'ETA',\n",
       " 'OPPO',\n",
       " 'WYO',\n",
       " 'ISU',\n",
       " 'B&C',\n",
       " 'WES',\n",
       " 'SWHF',\n",
       " 'OPT',\n",
       " 'NUSH',\n",
       " 'ORRA',\n",
       " 'KSUT',\n",
       " 'GANT',\n",
       " 'BCK',\n",
       " 'VIP',\n",
       " 'HTC',\n",
       " 'JJC',\n",
       " 'WD',\n",
       " 'VUDU',\n",
       " 'IZOD',\n",
       " 'CAT',\n",
       " 'ARU',\n",
       " 'AT&T',\n",
       " 'XECH',\n",
       " 'MSC',\n",
       " 'E2O',\n",
       " 'LYF',\n",
       " 'ROCX',\n",
       " 'TCL',\n",
       " 'MDI',\n",
       " 'BMW',\n",
       " 'IFB',\n",
       " 'PS4',\n",
       " 'ONN',\n",
       " 'MCP',\n",
       " 'THQ',\n",
       " 'VU',\n",
       " 'AOC',\n",
       " 'PS3',\n",
       " 'F&D',\n",
       " 'AGFA',\n",
       " 'TVSE',\n",
       " 'XOLO',\n",
       " 'PNY',\n",
       " 'AKG',\n",
       " 'GM',\n",
       " 'HAMA',\n",
       " 'F5',\n",
       " 'MSI',\n",
       " 'YWC',\n",
       " 'NBA',\n",
       " 'OPTA',\n",
       " 'AVG',\n",
       " 'MULO',\n",
       " 'CATZ',\n",
       " 'BOSE',\n",
       " 'MTV',\n",
       " 'EVM',\n",
       " 'POCO',\n",
       " 'IDEE',\n",
       " 'AMD',\n",
       " 'INVU',\n",
       " 'PSP',\n",
       " 'GAP',\n",
       " 'VLCC',\n",
       " 'O2',\n",
       " 'BCBG',\n",
       " '3M',\n",
       " 'HI9',\n",
       " 'TAGA',\n",
       " 'ERD',\n",
       " 'DNEI',\n",
       " 'FCB',\n",
       " 'JVS',\n",
       " 'ITI',\n",
       " 'UCLA',\n",
       " 'IO',\n",
       " 'OSEL',\n",
       " 'KID1',\n",
       " 'DKNY',\n",
       " 'TEGO',\n",
       " 'FPX',\n",
       " 'LILL',\n",
       " 'GMF']"
      ]
     },
     "execution_count": 16,
     "metadata": {},
     "output_type": "execute_result"
    }
   ],
   "source": [
    "l"
   ]
  },
  {
   "cell_type": "code",
   "execution_count": 17,
   "metadata": {},
   "outputs": [],
   "source": [
    "l=pd.DataFrame(l)"
   ]
  },
  {
   "cell_type": "code",
   "execution_count": 18,
   "metadata": {},
   "outputs": [],
   "source": [
    "l.columns=['brand_name']\n"
   ]
  },
  {
   "cell_type": "code",
   "execution_count": 15,
   "metadata": {},
   "outputs": [
    {
     "data": {
      "text/plain": [
       "(3416, 3)"
      ]
     },
     "execution_count": 15,
     "metadata": {},
     "output_type": "execute_result"
    }
   ],
   "source": [
    "brands.shape"
   ]
  },
  {
   "cell_type": "code",
   "execution_count": 20,
   "metadata": {},
   "outputs": [],
   "source": [
    "size = 100\n",
    "list_of_dfs = [brands.iloc[i:i+size-1,:] for i in range(0, len(brands),size)]"
   ]
  },
  {
   "cell_type": "code",
   "execution_count": 21,
   "metadata": {},
   "outputs": [
    {
     "data": {
      "text/plain": [
       "35"
      ]
     },
     "execution_count": 21,
     "metadata": {},
     "output_type": "execute_result"
    }
   ],
   "source": [
    "len(list_of_dfs)"
   ]
  },
  {
   "cell_type": "code",
   "execution_count": 140,
   "metadata": {},
   "outputs": [
    {
     "data": {
      "text/html": [
       "<div>\n",
       "<style scoped>\n",
       "    .dataframe tbody tr th:only-of-type {\n",
       "        vertical-align: middle;\n",
       "    }\n",
       "\n",
       "    .dataframe tbody tr th {\n",
       "        vertical-align: top;\n",
       "    }\n",
       "\n",
       "    .dataframe thead th {\n",
       "        text-align: right;\n",
       "    }\n",
       "</style>\n",
       "<table border=\"1\" class=\"dataframe\">\n",
       "  <thead>\n",
       "    <tr style=\"text-align: right;\">\n",
       "      <th></th>\n",
       "      <th>brand_name</th>\n",
       "    </tr>\n",
       "  </thead>\n",
       "  <tbody>\n",
       "    <tr>\n",
       "      <th>1200</th>\n",
       "      <td>INVU</td>\n",
       "    </tr>\n",
       "    <tr>\n",
       "      <th>1201</th>\n",
       "      <td>Magnum</td>\n",
       "    </tr>\n",
       "    <tr>\n",
       "      <th>1202</th>\n",
       "      <td>Twinings</td>\n",
       "    </tr>\n",
       "    <tr>\n",
       "      <th>1203</th>\n",
       "      <td>Ted Smith</td>\n",
       "    </tr>\n",
       "    <tr>\n",
       "      <th>1204</th>\n",
       "      <td>Adidas Originals</td>\n",
       "    </tr>\n",
       "    <tr>\n",
       "      <th>...</th>\n",
       "      <td>...</td>\n",
       "    </tr>\n",
       "    <tr>\n",
       "      <th>1294</th>\n",
       "      <td>The Vertical</td>\n",
       "    </tr>\n",
       "    <tr>\n",
       "      <th>1295</th>\n",
       "      <td>The Black &amp; White Co.</td>\n",
       "    </tr>\n",
       "    <tr>\n",
       "      <th>1296</th>\n",
       "      <td>FITMAX</td>\n",
       "    </tr>\n",
       "    <tr>\n",
       "      <th>1297</th>\n",
       "      <td>Maskerade</td>\n",
       "    </tr>\n",
       "    <tr>\n",
       "      <th>1298</th>\n",
       "      <td>DUNE LONDON</td>\n",
       "    </tr>\n",
       "  </tbody>\n",
       "</table>\n",
       "<p>99 rows × 1 columns</p>\n",
       "</div>"
      ],
      "text/plain": [
       "                 brand_name\n",
       "1200                   INVU\n",
       "1201                 Magnum\n",
       "1202               Twinings\n",
       "1203              Ted Smith\n",
       "1204       Adidas Originals\n",
       "...                     ...\n",
       "1294           The Vertical\n",
       "1295  The Black & White Co.\n",
       "1296                 FITMAX\n",
       "1297              Maskerade\n",
       "1298            DUNE LONDON\n",
       "\n",
       "[99 rows x 1 columns]"
      ]
     },
     "execution_count": 140,
     "metadata": {},
     "output_type": "execute_result"
    }
   ],
   "source": [
    "list_of_dfs[2]"
   ]
  },
  {
   "cell_type": "code",
   "execution_count": null,
   "metadata": {},
   "outputs": [],
   "source": [
    "i=1\n",
    "for df in list_of_dfs:\n",
    "    df['abbr']=df['brand_name'].apply(get_abb)\n",
    "    df.to_csv(r'C:\\Users\\pavan\\OneDrive\\Desktop\\csv files\\'test_'+str(i)+'.csv')\n",
    "    i+=1"
   ]
  },
  {
   "cell_type": "code",
   "execution_count": null,
   "metadata": {},
   "outputs": [],
   "source": []
  }
 ],
 "metadata": {
  "kernelspec": {
   "display_name": "Python 3",
   "language": "python",
   "name": "python3"
  },
  "language_info": {
   "codemirror_mode": {
    "name": "ipython",
    "version": 3
   },
   "file_extension": ".py",
   "mimetype": "text/x-python",
   "name": "python",
   "nbconvert_exporter": "python",
   "pygments_lexer": "ipython3",
   "version": "3.8.3"
  }
 },
 "nbformat": 4,
 "nbformat_minor": 4
}
